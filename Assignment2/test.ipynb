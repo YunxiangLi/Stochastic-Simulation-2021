{
  "nbformat": 4,
  "nbformat_minor": 0,
  "metadata": {
    "colab": {
      "name": "Stochastics_A2.ipynb",
      "provenance": []
    },
    "kernelspec": {
      "name": "python3",
      "display_name": "Python 3"
    },
    "language_info": {
      "name": "python"
    }
  },
  "cells": [
    {
      "cell_type": "markdown",
      "metadata": {
        "id": "SBtNcHoBG6kn"
      },
      "source": [
        "\n",
        "\n",
        "> Link for Latex document:\n",
        "\n",
        "https://www.overleaf.com/7669648622gpxdsdtpvpyd\n",
        "\n"
      ]
    },
    {
      "cell_type": "code",
      "metadata": {
        "colab": {
          "base_uri": "https://localhost:8080/"
        },
        "id": "d4WjxlsuHuzU",
        "outputId": "29109ac8-bd7f-4427-936e-474c7aa495a4"
      },
      "source": [
        "!pip install simpy"
      ],
      "execution_count": 3,
      "outputs": [
        {
          "output_type": "stream",
          "name": "stdout",
          "text": [
            "Collecting simpy\n",
            "  Downloading simpy-4.0.1-py2.py3-none-any.whl (29 kB)\n",
            "Installing collected packages: simpy\n",
            "Successfully installed simpy-4.0.1\n"
          ]
        }
      ]
    },
    {
      "cell_type": "code",
      "metadata": {
        "id": "UEPmEWn2Fw35"
      },
      "source": [
        "import simpy \n",
        "import random\n"
      ],
      "execution_count": 6,
      "outputs": []
    },
    {
      "cell_type": "markdown",
      "metadata": {
        "id": "Y2sMp9_oH5q_"
      },
      "source": [
        "## Simple example\n"
      ]
    },
    {
      "cell_type": "code",
      "metadata": {
        "colab": {
          "base_uri": "https://localhost:8080/"
        },
        "id": "4UV41VfYHGB-",
        "outputId": "a90c034a-eb09-4da2-a952-8e0d457257e2"
      },
      "source": [
        "\n",
        "\n",
        "RANDOM_SEED = 42\n",
        "NEW_CUSTOMERS = 5  # Total number of customers\n",
        "INTERVAL_CUSTOMERS = 10.0  # Generate new customers roughly every x seconds\n",
        "MIN_PATIENCE = 1  # Min. customer patience\n",
        "MAX_PATIENCE = 3  # Max. customer patience\n",
        "\n",
        "\n",
        "def source(env, number, interval, counter):\n",
        "    \"\"\"Source generates customers randomly\"\"\"\n",
        "    for i in range(number):\n",
        "        c = customer(env, 'Customer%02d' % i, counter, time_in_bank=12.0)\n",
        "        env.process(c)\n",
        "        t = random.expovariate(1.0 / interval)\n",
        "        yield env.timeout(t)\n",
        "\n",
        "\n",
        "def customer(env, name, counter, time_in_bank):\n",
        "    \"\"\"Customer arrives, is served and leaves.\"\"\"\n",
        "    arrive = env.now\n",
        "    print('%7.4f %s: Here I am' % (arrive, name))\n",
        "\n",
        "    with counter.request() as req:\n",
        "        patience = random.uniform(MIN_PATIENCE, MAX_PATIENCE)\n",
        "        # Wait for the counter or abort at the end of our tether\n",
        "        results = yield req | env.timeout(patience)\n",
        "\n",
        "        wait = env.now - arrive\n",
        "\n",
        "        if req in results:\n",
        "            # We got to the counter\n",
        "            print('%7.4f %s: Waited %6.3f' % (env.now, name, wait))\n",
        "\n",
        "            tib = random.expovariate(1.0 / time_in_bank)\n",
        "            yield env.timeout(tib)\n",
        "            print('%7.4f %s: Finished' % (env.now, name))\n",
        "\n",
        "        else:\n",
        "            # We reneged\n",
        "            print('%7.4f %s: RENEGED after %6.3f' % (env.now, name, wait))\n",
        "\n",
        "\n",
        "# Setup and start the simulation\n",
        "print('Bank renege')\n",
        "random.seed(RANDOM_SEED)\n",
        "env = simpy.Environment()\n",
        "\n",
        "# Start processes and run\n",
        "counter = simpy.Resource(env, capacity=1)\n",
        "env.process(source(env, NEW_CUSTOMERS, INTERVAL_CUSTOMERS, counter))\n",
        "env.run()"
      ],
      "execution_count": 7,
      "outputs": [
        {
          "output_type": "stream",
          "name": "stdout",
          "text": [
            "Bank renege\n",
            " 0.0000 Customer00: Here I am\n",
            " 0.0000 Customer00: Waited  0.000\n",
            " 3.8595 Customer00: Finished\n",
            "10.2006 Customer01: Here I am\n",
            "10.2006 Customer01: Waited  0.000\n",
            "12.7265 Customer02: Here I am\n",
            "13.9003 Customer02: RENEGED after  1.174\n",
            "23.7507 Customer01: Finished\n",
            "34.9993 Customer03: Here I am\n",
            "34.9993 Customer03: Waited  0.000\n",
            "37.9599 Customer03: Finished\n",
            "40.4798 Customer04: Here I am\n",
            "40.4798 Customer04: Waited  0.000\n",
            "43.1401 Customer04: Finished\n"
          ]
        }
      ]
    }
  ]
}
