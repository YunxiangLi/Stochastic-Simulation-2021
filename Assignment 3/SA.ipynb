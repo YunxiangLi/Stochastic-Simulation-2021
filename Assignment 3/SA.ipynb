{
 "cells": [
  {
   "cell_type": "code",
   "execution_count": 1,
   "id": "5ff3613b",
   "metadata": {},
   "outputs": [],
   "source": [
    "import pandas as pd\n",
    "import numpy as np\n",
    "import random\n",
    "import matplotlib.pyplot as plt"
   ]
  },
  {
   "cell_type": "code",
   "execution_count": 2,
   "id": "21b0e1a8",
   "metadata": {},
   "outputs": [],
   "source": [
    "eil51 = pd.read_csv('51tsp.txt', delimiter=' ', index_col= 0, header = None, names = ['x','y'])"
   ]
  },
  {
   "cell_type": "code",
   "execution_count": 3,
   "id": "8f4c922a",
   "metadata": {},
   "outputs": [],
   "source": [
    "with open('eil51.opt.tour.txt', newline='') as file:\n",
    "    lines = file.readlines()\n",
    "opt51 = [int(l[:-1]) for l in lines]"
   ]
  },
  {
   "cell_type": "code",
   "execution_count": 4,
   "id": "53a460af",
   "metadata": {},
   "outputs": [],
   "source": [
    "def distance_matrix(df):\n",
    "    matrix = pd.DataFrame(data = np.zeros((len(df), len(df))), index = np.arange(1,52),columns = np.arange(1,52))\n",
    "    for index1, cor1 in df.iterrows():\n",
    "        for index2, cor2 in df.iterrows():\n",
    "            diff_x = cor1[\"x\"] - cor2[\"x\"]\n",
    "            diff_y = cor1[\"y\"] - cor2[\"y\"]\n",
    "            distance = (diff_x**2 + diff_y**2)**0.5\n",
    "            matrix.loc[index1, index2] = distance\n",
    "    return matrix\n",
    "\n",
    "def distance(d_df, route):\n",
    "    distance = 0\n",
    "    for i in range(len(route)-1):\n",
    "        distance += d_df.loc[route[i], route[i+1]]\n",
    "    return distance"
   ]
  },
  {
   "cell_type": "code",
   "execution_count": 5,
   "id": "af141332",
   "metadata": {},
   "outputs": [],
   "source": [
    "def insert(route):\n",
    "    new_route = route[:]\n",
    "    m, n = random.sample(range(0, len(new_route)), 2)\n",
    "    city = new_route[m]\n",
    "    new_route.remove(city)\n",
    "    new_route.insert(n, city)\n",
    "    return new_route\n",
    "def swap(route):\n",
    "    new_route = route[:]\n",
    "    pos_1, pos_2 = random.sample(range(0, len(new_route)), 2)\n",
    "    new_route[pos_1], new_route[pos_2] = new_route[pos_2], new_route[pos_1]\n",
    "    return new_route\n",
    "def reverse(route):\n",
    "    copy_route = route[:]\n",
    "    pos_1, pos_2 = random.sample(range(0, len(copy_route)), 2)\n",
    "    if pos_2 < pos_1:\n",
    "        pos_1, pos_2 = pos_2, pos_1\n",
    "    reversed_ = copy_route[pos_1:pos_2][::-1]\n",
    "    new_route = copy_route[0:pos_1] + reversed_ + copy_route[pos_2:]\n",
    "    return new_route"
   ]
  },
  {
   "cell_type": "code",
   "execution_count": 6,
   "id": "7957955d",
   "metadata": {},
   "outputs": [],
   "source": [
    "def main_sa(d_df, route0, mutate, mc_len, sch_method, t0, stop):\n",
    "    d_list = [distance(d_df, route0)]\n",
    "    t = t0\n",
    "#     t_list = [t]\n",
    "    best_route = route0[:]\n",
    "\n",
    "    for k in range(stop):\n",
    "        for i in range(mc_len):\n",
    "            new_route = mutate(best_route)\n",
    "            new_distance = distance(d_df, new_route)\n",
    "            diff_distance = distance(d_df, best_route) - new_distance\n",
    "            d_list.append(new_distance)\n",
    "            if diff_distance > 0: \n",
    "                best_route = new_route\n",
    "            else:\n",
    "                p = np.e**(diff_distance/t)\n",
    "                if random.uniform(0, 1) < p:\n",
    "                    best_route = new_route\n",
    "                    \n",
    "        if sch_method == \"linear\":\n",
    "            t = t - t0/stop\n",
    "        elif sch_method == \"geometric\":\n",
    "            alpha = 0.95\n",
    "            t = t * alpha\n",
    "#         elif sch_method == \"adaptive\":\n",
    "\n",
    "#         t_list.append(t)\n",
    "        \n",
    "    return d_list, best_route"
   ]
  },
  {
   "cell_type": "code",
   "execution_count": 8,
   "id": "64c7dd6e",
   "metadata": {},
   "outputs": [
    {
     "name": "stdout",
     "output_type": "stream",
     "text": [
      "linear101/3 done\n",
      "linear102/3 done\n",
      "linear103/3 done\n",
      "linear201/3 done\n",
      "linear202/3 done\n",
      "linear203/3 done\n",
      "geometric101/3 done\n",
      "geometric102/3 done\n",
      "geometric103/3 done\n",
      "geometric201/3 done\n",
      "geometric202/3 done\n",
      "geometric203/3 done\n"
     ]
    }
   ],
   "source": [
    "data = eil51\n",
    "d_df = distance_matrix(data)\n",
    "mc_length = [10, 20]\n",
    "cool_schedules = ['linear','geometric']\n",
    "t0 = 100\n",
    "simulations = 3\n",
    "stop = 100\n",
    "\n",
    "results = pd.DataFrame()\n",
    "for cooling in cool_schedules:\n",
    "    for mc_len in mc_length:\n",
    "        for s in range(simulations):\n",
    "            random_route = [int(x) for x in random.sample(data.index.tolist(), len(data.index))]\n",
    "            d_list, best_route = main_sa(d_df, random_route, swap, mc_len, cooling, t0, stop)\n",
    "            df_dict = {\n",
    "              \"simulation\": [s],\n",
    "              \"cooling schedules\": [cooling],\n",
    "              \"MC length\": [mc_len],\n",
    "              \"found_distances\": [distance(d_df, best_route)]\n",
    "            }\n",
    "            df = pd.DataFrame.from_dict(df_dict)\n",
    "            results = results.append(df)\n",
    "            print(f'{cooling} {mc_len} {s+1}/{simulations} done')\n",
    "results.to_csv(\"test.csv\", index=False)"
   ]
  },
  {
   "cell_type": "code",
   "execution_count": null,
   "id": "456324d7",
   "metadata": {},
   "outputs": [],
   "source": []
  }
 ],
 "metadata": {
  "kernelspec": {
   "display_name": "Python 3",
   "language": "python",
   "name": "python3"
  },
  "language_info": {
   "codemirror_mode": {
    "name": "ipython",
    "version": 3
   },
   "file_extension": ".py",
   "mimetype": "text/x-python",
   "name": "python",
   "nbconvert_exporter": "python",
   "pygments_lexer": "ipython3",
   "version": "3.8.8"
  }
 },
 "nbformat": 4,
 "nbformat_minor": 5
}
