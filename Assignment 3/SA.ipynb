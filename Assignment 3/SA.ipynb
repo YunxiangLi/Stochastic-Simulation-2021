{
 "cells": [
  {
   "cell_type": "code",
   "execution_count": 122,
   "id": "5ff3613b",
   "metadata": {},
   "outputs": [],
   "source": [
    "import pandas as pd\n",
    "import numpy as np\n",
    "import random\n",
    "import matplotlib.pyplot as plt\n",
    "import seaborn as sns"
   ]
  },
  {
   "cell_type": "code",
   "execution_count": 2,
   "id": "075b0ddc",
   "metadata": {},
   "outputs": [],
   "source": [
    "with open('280tsp.txt', newline='') as file:\n",
    "    lines = file.readlines()"
   ]
  },
  {
   "cell_type": "code",
   "execution_count": 3,
   "id": "ac733f46",
   "metadata": {},
   "outputs": [],
   "source": [
    "newlines = [l[:-1].lstrip(' ') for l in lines]\n",
    "with open('280tsp_.txt', 'w') as f:\n",
    "    for line in newlines:\n",
    "        f.write(line)\n",
    "        f.write('\\n')"
   ]
  },
  {
   "cell_type": "code",
   "execution_count": 4,
   "id": "21b0e1a8",
   "metadata": {},
   "outputs": [],
   "source": [
    "eil51 = pd.read_csv('51tsp.txt', delimiter=' ', index_col= 0, header = None, names = ['x','y'])\n",
    "a280 = pd.read_csv('280tsp.csv', delimiter=',', index_col= 0, header = None, names = ['x','y'])"
   ]
  },
  {
   "cell_type": "code",
   "execution_count": 5,
   "id": "8f4c922a",
   "metadata": {},
   "outputs": [],
   "source": [
    "with open('eil51.opt.tour.txt', newline='') as file:\n",
    "    lines = file.readlines()\n",
    "opt51 = [int(l[:-1]) for l in lines]\n",
    "with open('a280.opt.tour.txt', newline='') as file:\n",
    "    lines = file.readlines()\n",
    "opt280 = [int(l[:-1]) for l in lines]"
   ]
  },
  {
   "cell_type": "code",
   "execution_count": 6,
   "id": "53a460af",
   "metadata": {},
   "outputs": [],
   "source": [
    "def distance_matrix(df):\n",
    "    matrix = pd.DataFrame(data = np.zeros((len(df), len(df))), index = np.arange(1,len(df)+1),columns = np.arange(1,len(df)+1))\n",
    "    for index1, cor1 in df.iterrows():\n",
    "        for index2, cor2 in df.iterrows():\n",
    "            diff_x = cor1[\"x\"] - cor2[\"x\"]\n",
    "            diff_y = cor1[\"y\"] - cor2[\"y\"]\n",
    "            distance = (diff_x**2 + diff_y**2)**0.5\n",
    "            matrix.loc[index1, index2] = distance\n",
    "    return matrix\n",
    "\n",
    "def distance(d_df, route):\n",
    "    distance = 0\n",
    "    for i in range(len(route)-1):\n",
    "        distance += d_df.loc[route[i], route[i+1]]\n",
    "    return distance"
   ]
  },
  {
   "cell_type": "code",
   "execution_count": 14,
   "id": "af141332",
   "metadata": {},
   "outputs": [],
   "source": [
    "def insert(route):\n",
    "    new_route = route[1:-1]\n",
    "    m, n = random.sample(range(0, len(new_route)), 2)\n",
    "    city = new_route[m]\n",
    "    new_route.remove(city)\n",
    "    new_route.insert(n, city)\n",
    "    return [1] + new_route + [1]\n",
    "def swap(route):\n",
    "    new_route = route[1:-1]\n",
    "    pos_1, pos_2 = random.sample(range(0, len(new_route)), 2)\n",
    "    new_route[pos_1], new_route[pos_2] = new_route[pos_2], new_route[pos_1]\n",
    "    return [1] + new_route + [1]\n",
    "def inverse(route):\n",
    "    copy_route = route[1:-1]\n",
    "    pos_1, pos_2 = random.sample(range(0, len(copy_route)), 2)\n",
    "    if pos_2 < pos_1:\n",
    "        pos_1, pos_2 = pos_2, pos_1\n",
    "    inversed = copy_route[pos_1:pos_2][::-1]\n",
    "    new_route = copy_route[0:pos_1] + inversed + copy_route[pos_2:]\n",
    "    return [1] + new_route + [1]"
   ]
  },
  {
   "cell_type": "code",
   "execution_count": 15,
   "id": "7957955d",
   "metadata": {},
   "outputs": [],
   "source": [
    "def main_sa(d_df, route0, mutate, mc_len, sch_method, t0, stop):\n",
    "    d_list = [distance(d_df, route0)]\n",
    "    t = t0\n",
    "#     t_list = [t]\n",
    "    best_route = route0[:]\n",
    "    k = 0\n",
    "    for k in range(stop):\n",
    "        k+=1\n",
    "        for i in range(mc_len):\n",
    "            new_route = mutate(best_route)\n",
    "            new_distance = distance(d_df, new_route)\n",
    "            diff_distance = distance(d_df, best_route) - new_distance\n",
    "            if diff_distance > 0: \n",
    "                best_route = new_route\n",
    "            else:\n",
    "                p = np.e**(diff_distance/t)\n",
    "                if random.uniform(0, 1) < p:\n",
    "                    best_route = new_route\n",
    "        d_list.append(distance(d_df, best_route))\n",
    "        if sch_method == \"linear\": #additive\n",
    "            t = t - t0/stop\n",
    "        elif sch_method == \"geometric\":\n",
    "            t = t * 0.99\n",
    "        elif sch_method == \"logarithmic\":\n",
    "            t = t0/(1+2*np.log(1+k))\n",
    "\n",
    "#         t_list.append(t)\n",
    "        \n",
    "    return d_list, best_route"
   ]
  },
  {
   "cell_type": "markdown",
   "id": "166eca05",
   "metadata": {},
   "source": [
    "Investigate permutation method"
   ]
  },
  {
   "cell_type": "code",
   "execution_count": 17,
   "id": "8b7e779f",
   "metadata": {},
   "outputs": [],
   "source": [
    "data = eil51\n",
    "d_df = distance_matrix(data)\n",
    "mc_length = [100]\n",
    "cool_schedules = ['geometric']\n",
    "t0 = 100\n",
    "simulations = 10\n",
    "stop = 1000\n",
    "methods = [insert, swap]\n",
    "\n",
    "results = pd.DataFrame()\n",
    "for method in methods:\n",
    "    for cooling in cool_schedules:\n",
    "        for mc_len in mc_length:\n",
    "            for s in range(simulations):\n",
    "                random_route = [1] + [int(x) for x in random.sample(list(np.arange(2,52)), len(data.index)-1)] + [1]\n",
    "                d_list, best_route = main_sa(d_df, random_route, method, mc_len, cooling, t0, stop)\n",
    "                df_dict = {\n",
    "                  \"simulation\": [s],\n",
    "                  \"cooling schedules\": [cooling],\n",
    "                  \"MC length\": [mc_len],\n",
    "                    \"method\": method,\n",
    "                  \"found_distances\": [distance(d_df, best_route)]\n",
    "                }\n",
    "                df = pd.DataFrame.from_dict(df_dict)\n",
    "                results = results.append(df)\n",
    "                print(f'{method} {s+1}/{simulations} done {distance(d_df, best_route)}')\n",
    "results.to_csv(\"mutation.csv\", index=False)"
   ]
  },
  {
   "cell_type": "markdown",
   "id": "406e8721",
   "metadata": {},
   "source": [
    "Investigate t0"
   ]
  },
  {
   "cell_type": "code",
   "execution_count": 118,
   "id": "64c7dd6e",
   "metadata": {},
   "outputs": [],
   "source": [
    "data = eil51\n",
    "d_df = distance_matrix(data)\n",
    "mc_length = [100]\n",
    "cool_schedules = ['geometric']\n",
    "t0s = [10,50,100,500,1000]\n",
    "simulations = 10\n",
    "stop = 1000\n",
    "\n",
    "results = pd.DataFrame()\n",
    "for t0 in t0s:\n",
    "    for cooling in cool_schedules:\n",
    "        for mc_len in mc_length:\n",
    "            for s in range(simulations):\n",
    "                random_route = [1] + [int(x) for x in random.sample(list(np.arange(2,52)), len(data.index)-1)] + [1]\n",
    "                d_list, best_route = main_sa(d_df, random_route, insert, mc_len, cooling, t0, stop)\n",
    "                df_dict = {\n",
    "                  \"simulation\": [s],\n",
    "                  \"cooling schedules\": [cooling],\n",
    "                  \"MC length\": [mc_len],\n",
    "                    \"t0\": t0,\n",
    "                  \"found_distances\": [distance(d_df, best_route)]\n",
    "                }\n",
    "                df = pd.DataFrame.from_dict(df_dict)\n",
    "                results = results.append(df)\n",
    "                print(f'{t0} {s+1}/{simulations} done')\n",
    "results.to_csv(\"t0_50.csv\", index=False)"
   ]
  },
  {
   "cell_type": "markdown",
   "id": "407311c8",
   "metadata": {},
   "source": [
    "Test for convergence (eil51)"
   ]
  },
  {
   "cell_type": "code",
   "execution_count": 63,
   "id": "e328da37",
   "metadata": {},
   "outputs": [],
   "source": [
    "data = eil51\n",
    "d_df = distance_matrix(data)\n",
    "mc_length = [100]\n",
    "cool_schedules = ['geometric']\n",
    "t0 = 50\n",
    "simulations = 10\n",
    "stop = 1000\n",
    "\n",
    "results = pd.DataFrame()\n",
    "for cooling in cool_schedules:\n",
    "    for mc_len in mc_length:\n",
    "        for s in range(simulations):\n",
    "            random_route = [1] + [int(x) for x in random.sample(list(np.arange(2,52)), len(data.index)-1)] + [1]\n",
    "            d_list, best_route = main_sa(d_df, random_route, insert, mc_len, cooling, t0, stop)\n",
    "            df_dict = {\n",
    "              \"simulation\": [s],\n",
    "              \"cooling schedules\": [cooling],\n",
    "              \"MC length\": [mc_len],\n",
    "              \"found_distances\": [distance(d_df, best_route)],\n",
    "              \"list\": [d_list]\n",
    "            }\n",
    "            df = pd.DataFrame.from_dict(df_dict)\n",
    "            results = results.append(df)\n",
    "            print(f'{s+1}/{simulations} done')\n",
    "results.to_csv(\"eil51.csv\", index=False)"
   ]
  },
  {
   "cell_type": "markdown",
   "id": "8370bf0f",
   "metadata": {},
   "source": [
    "Cooling schedules"
   ]
  },
  {
   "cell_type": "code",
   "execution_count": 64,
   "id": "5313ce3e",
   "metadata": {},
   "outputs": [],
   "source": [
    "data = a280\n",
    "d_df = distance_matrix(data)\n",
    "mc_length = [100]\n",
    "cool_schedules = ['linear','geometric','logarithmic']\n",
    "t0 = 50\n",
    "simulations = 10\n",
    "stop = 1000\n",
    "\n",
    "results = pd.DataFrame()\n",
    "for cooling in cool_schedules:\n",
    "    for mc_len in mc_length:\n",
    "        for s in range(simulations):\n",
    "            random_route = [1] + [int(x) for x in random.sample(list(np.arange(2,len(data.index)+1)), len(data.index)-1)] + [1]\n",
    "            d_list, best_route = main_sa(d_df, random_route, insert, mc_len, cooling, t0, stop)\n",
    "            df_dict = {\n",
    "              \"simulation\": [s],\n",
    "              \"cooling schedules\": [cooling],\n",
    "              \"MC length\": [mc_len],\n",
    "              \"found_distances\": [distance(d_df, best_route)],\n",
    "              \"list\": [d_list],\n",
    "              \"route\":[best_route]\n",
    "            }\n",
    "            df = pd.DataFrame.from_dict(df_dict)\n",
    "            results = results.append(df)\n",
    "            print(f'{s+1}/{simulations} done')\n",
    "results.to_csv(\"cooling.csv\", index=False)"
   ]
  },
  {
   "cell_type": "markdown",
   "id": "a5a1943b",
   "metadata": {},
   "source": [
    "MC length"
   ]
  },
  {
   "cell_type": "code",
   "execution_count": 54,
   "id": "9d2c0e53",
   "metadata": {},
   "outputs": [
    {
     "name": "stdout",
     "output_type": "stream",
     "text": [
      "1/1 done\n"
     ]
    }
   ],
   "source": [
    "data = a280\n",
    "d_df = distance_matrix(data)\n",
    "mc_length = [1000]\n",
    "cool_schedules = ['geometric']\n",
    "t0 = 50\n",
    "simulations = 1\n",
    "stop = 1000\n",
    "\n",
    "results = pd.DataFrame()\n",
    "for cooling in cool_schedules:\n",
    "    for mc_len in mc_length:\n",
    "        for s in range(simulations):\n",
    "            random_route = [1] + [int(x) for x in random.sample(list(np.arange(2,len(data.index)+1)), len(data.index)-1)] + [1]\n",
    "            d_list, best_route = main_sa(d_df, random_route, insert, mc_len, cooling, t0, stop)\n",
    "            df_dict = {\n",
    "              \"simulation\": [s],\n",
    "              \"cooling schedules\": [cooling],\n",
    "              \"MC length\": [mc_len],\n",
    "              \"found_distances\": [distance(d_df, best_route)],\n",
    "              \"list\": [d_list],\n",
    "              \"route\":[best_route]\n",
    "            }\n",
    "            df = pd.DataFrame.from_dict(df_dict)\n",
    "            results = results.append(df)\n",
    "            print(f'{s+1}/{simulations} done')\n",
    "results.to_csv(\"mc1000.csv\", index=False)"
   ]
  },
  {
   "cell_type": "markdown",
   "id": "ef28cc6e",
   "metadata": {},
   "source": [
    "PLOT"
   ]
  },
  {
   "cell_type": "code",
   "execution_count": 61,
   "id": "cf6c8c36",
   "metadata": {
    "scrolled": true
   },
   "outputs": [
    {
     "data": {
      "image/png": "[encoded data removed]",
      "text/plain": [
       "<Figure size 432x288 with 1 Axes>"
      ]
     },
     "metadata": {
      "needs_background": "light"
     },
     "output_type": "display_data"
    }
   ],
   "source": [
    "mutation = pd.read_csv('mutation.csv')\n",
    "df = pd.DataFrame.from_dict({'insert': np.array(mutation[mutation['method']=='insert']['found_distances']),\n",
    "                             'swap': np.array(mutation[mutation['method']=='swap']['found_distances']),\n",
    "                             'inverse': np.array(mutation[mutation['method']=='inverse']['found_distances'])})\n",
    "fig, ax = plt.subplots()\n",
    "ax = df.boxplot()\n",
    "ax.set_ylabel('Minimum distance found')\n",
    "fig.savefig('mutation',dpi=500)"
   ]
  },
  {
   "cell_type": "code",
   "execution_count": 60,
   "id": "ce61790f",
   "metadata": {},
   "outputs": [
    {
     "data": {
      "image/png": "[encoded data removed]",
      "text/plain": [
       "<Figure size 432x288 with 1 Axes>"
      ]
     },
     "metadata": {
      "needs_background": "light"
     },
     "output_type": "display_data"
    }
   ],
   "source": [
    "t0 = pd.read_csv('t0.csv')\n",
    "df = pd.DataFrame.from_dict({'10': np.array(t0[t0['t0'] == 10] ['found_distances']),\n",
    "                             '50': np.array(t0[t0['t0'] == 50] ['found_distances']),\n",
    "                             '100': np.array(t0[t0['t0'] == 100] ['found_distances']),\n",
    "                             '500': np.array(t0[t0['t0'] == 500] ['found_distances']),\n",
    "                             '1000': np.array(t0[t0['t0'] == 1000] ['found_distances'])})\n",
    "fig, ax = plt.subplots()\n",
    "ax = df.boxplot()\n",
    "ax.set_ylabel('Minimum distance found')\n",
    "ax.set_xlabel(r'$T_0$')\n",
    "fig.savefig('T0',dpi=500)"
   ]
  },
  {
   "cell_type": "code",
   "execution_count": 113,
   "id": "805f458e",
   "metadata": {},
   "outputs": [
    {
     "data": {
      "text/plain": [
       "array([436.96065037, 471.62885178, 452.19619267, 450.37389511,\n",
       "       444.42300741, 459.72832139, 463.95682929, 440.12274461,\n",
       "       465.27391182, 443.34681745])"
      ]
     },
     "execution_count": 113,
     "metadata": {},
     "output_type": "execute_result"
    }
   ],
   "source": [
    "np.array(t0[t0['t0']==10]['found_distances'])"
   ]
  },
  {
   "cell_type": "markdown",
   "id": "1ed71a0a",
   "metadata": {},
   "source": [
    "cooling schedules"
   ]
  },
  {
   "cell_type": "code",
   "execution_count": null,
   "id": "77cb2c44",
   "metadata": {},
   "outputs": [],
   "source": [
    "cooling = pd.read_csv('cooling.csv')\n",
    "cools = pd.DataFrame()\n",
    "for i in range(len(cooling)):\n",
    "    row = cooling.iloc[i,:-1]\n",
    "    d_list = eval(cooling.iloc[i,-1])\n",
    "    df = pd.DataFrame([row]*len(d_list))\n",
    "    df['k'] = np.arange(0,1001)\n",
    "    df['d'] = d_list\n",
    "    cools = cools.append(df)"
   ]
  },
  {
   "cell_type": "code",
   "execution_count": 128,
   "id": "7aedef9d",
   "metadata": {},
   "outputs": [
    {
     "data": {
      "image/png": "[encoded data removed]",
      "text/plain": [
       "<Figure size 432x288 with 1 Axes>"
      ]
     },
     "metadata": {
      "needs_background": "light"
     },
     "output_type": "display_data"
    }
   ],
   "source": [
    "fig, ax = plt.subplots()\n",
    "sns.lineplot(ax =ax, x = 'k', y = 'd', hue = 'cooling schedules', data=cools)\n",
    "ax.set_ylabel('Distance')\n",
    "ax.set_xlabel('K(iterations)')\n",
    "fig.savefig('cooling.png',dpi=1000)"
   ]
  },
  {
   "cell_type": "markdown",
   "id": "9219b012",
   "metadata": {},
   "source": [
    "MC length"
   ]
  },
  {
   "cell_type": "code",
   "execution_count": 135,
   "id": "3ccab866",
   "metadata": {},
   "outputs": [],
   "source": [
    "mc = pd.read_csv('mc.csv')\n",
    "mc100 = pd.read_csv('a280_g.csv')\n",
    "mc = mc.append(mc100)\n",
    "mcs = pd.DataFrame()\n",
    "for i in range(len(mc)):\n",
    "    row = mc.iloc[i,:-2]\n",
    "    d_list = eval(mc.iloc[i,-2])\n",
    "    df = pd.DataFrame([row]*len(d_list))\n",
    "    df['k'] = np.arange(0,1001)\n",
    "    df['d'] = d_list\n",
    "    mcs = mcs.append(df)"
   ]
  },
  {
   "cell_type": "code",
   "execution_count": 140,
   "id": "092656fd",
   "metadata": {},
   "outputs": [
    {
     "data": {
      "image/png": "[encoded data removed]",
      "text/plain": [
       "<Figure size 432x288 with 1 Axes>"
      ]
     },
     "metadata": {
      "needs_background": "light"
     },
     "output_type": "display_data"
    }
   ],
   "source": [
    "fig, ax = plt.subplots()\n",
    "sns.lineplot(ax = ax, x = 'k', y = 'd', hue = 'MC length', data=mcs)\n",
    "ax.set_ylabel('Distance')\n",
    "ax.set_xlabel('Markov Chain’s length')\n",
    "fig.savefig('mc.png',dpi=1000)"
   ]
  },
  {
   "cell_type": "code",
   "execution_count": null,
   "id": "29a79377",
   "metadata": {},
   "outputs": [],
   "source": []
  }
 ],
 "metadata": {
  "kernelspec": {
   "display_name": "Python 3",
   "language": "python",
   "name": "python3"
  },
  "language_info": {
   "codemirror_mode": {
    "name": "ipython",
    "version": 3
   },
   "file_extension": ".py",
   "mimetype": "text/x-python",
   "name": "python",
   "nbconvert_exporter": "python",
   "pygments_lexer": "ipython3",
   "version": "3.8.8"
  }
 },
 "nbformat": 4,
 "nbformat_minor": 5
}
